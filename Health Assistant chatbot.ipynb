{
 "cells": [
  {
   "cell_type": "markdown",
   "id": "14c0950a-3b6e-4fee-a768-945118b63b4c",
   "metadata": {},
   "source": [
    "#    Healthcare Assistant Chatbot using RAG"
   ]
  },
  {
   "cell_type": "markdown",
   "id": "a130033b-7da3-4147-9017-648df96573ea",
   "metadata": {},
   "source": [
    "#### This project implements an AI-powered healthcare assistant capable of answering medical queries based on healthcare-related PDF documents. By leveraging Retrieval-Augmented Generation (RAG) and Google’s Gemini API, the assistant provides accurate and context-aware responses grounded in real medical literature."
   ]
  },
  {
   "cell_type": "markdown",
   "id": "f9b24d8c-42fb-4de3-a7c8-27e097cef3ad",
   "metadata": {},
   "source": [
    "### Reading PDF Files"
   ]
  },
  {
   "cell_type": "code",
   "execution_count": 5,
   "id": "63df28ae-d0c7-4ba7-974b-6c00c5896694",
   "metadata": {},
   "outputs": [
    {
     "name": "stdout",
     "output_type": "stream",
     "text": [
      "\n",
      "📄 Reading file: disease-handbook-complete.pdf\n",
      "🧾 First 5 lines:\n",
      "   Disease Handbook  \n",
      "   for \n",
      "   Childcare Providers  \n",
      "        \n",
      "   New Hampshire Department of Health and Human Services  \n",
      "\n",
      "📄 Reading file: Guide-to-Common-Childhood-Infections-2023_Final-Approved.pdf\n",
      "🧾 First 5 lines:\n",
      "   Signs and \n",
      "   Symptoms of \n",
      "   Infectious  Diseases  How Infectious \n",
      "   Diseases  Spread  How to Prevent \n",
      "   Spread  of Infectious \n",
      "\n",
      "📄 Reading file: Outpatient Guide 508.pdf\n",
      "🧾 First 5 lines:\n",
      "   GUIDE TO INFECTION PREVENTION  \n",
      "   FOR OUTPATIENT SETTINGS:\n",
      "    MINIMUM EXPECTATIONS FOR SAFE CARE\n",
      "   National Center for Emerging and Zoonotic Infectious Diseases\n",
      "   Division of Healthcare Quality Promotion\n",
      "\n",
      "📄 Reading file: quick-guide-to-common-childhood-diseases.pdf\n",
      "🧾 First 5 lines:\n",
      "   A \n",
      "   Quick Guide \n",
      "   To \n",
      "   Common Childhood  \n",
      "   Diseases \n"
     ]
    }
   ],
   "source": [
    "import os\n",
    "from PyPDF2 import PdfReader\n",
    "\n",
    "\n",
    "pdf_folder = \"healthcare_pdfs\"\n",
    "\n",
    "# Function to read PDF content\n",
    "def read_pdf_text(file_path):\n",
    "    reader = PdfReader(file_path)\n",
    "    text = ''\n",
    "    for page in reader.pages:\n",
    "        page_text = page.extract_text()\n",
    "        if page_text:\n",
    "            text += page_text + '\\n'\n",
    "    return text\n",
    "\n",
    "# Read and print first few lines from each PDF\n",
    "for pdf_file in os.listdir(pdf_folder):\n",
    "    if pdf_file.endswith(\".pdf\"):\n",
    "        file_path = os.path.join(pdf_folder, pdf_file)\n",
    "        print(f\"\\n📄 Reading file: {pdf_file}\")\n",
    "        text = read_pdf_text(file_path)\n",
    "        lines = text.strip().splitlines()\n",
    "        print(\"🧾 First 5 lines:\")\n",
    "        for line in lines[:5]:\n",
    "            print(f\"   {line}\")\n"
   ]
  },
  {
   "cell_type": "markdown",
   "id": "557ce577-a2b4-42c6-928f-f232b0ec5c7b",
   "metadata": {},
   "source": [
    "### Splitting Text into Chunks"
   ]
  },
  {
   "cell_type": "code",
   "execution_count": 6,
   "id": "2dba6197-c6ad-47cf-aadd-5774f1fddf5f",
   "metadata": {},
   "outputs": [
    {
     "name": "stdout",
     "output_type": "stream",
     "text": [
      "📄 Reading and chunking: disease-handbook-complete.pdf\n",
      "📄 Reading and chunking: Guide-to-Common-Childhood-Infections-2023_Final-Approved.pdf\n",
      "📄 Reading and chunking: Outpatient Guide 508.pdf\n",
      "📄 Reading and chunking: quick-guide-to-common-childhood-diseases.pdf\n",
      "\n",
      "✅ Total chunks created: 524\n",
      "🧾 Sample chunk (first 100 chars):\n",
      "Disease Handbook  \n",
      "for \n",
      "Childcare Providers  \n",
      "     \n",
      "New Hampshire Department of Health and Human Ser...\n"
     ]
    }
   ],
   "source": [
    "import os\n",
    "from PyPDF2 import PdfReader\n",
    "from langchain.text_splitter import RecursiveCharacterTextSplitter\n",
    "\n",
    "\n",
    "pdf_folder = './healthcare_pdfs'\n",
    "\n",
    "# Update chunk size and overlap \n",
    "def split_documents(text, document_name):\n",
    "    text_splitter = RecursiveCharacterTextSplitter(\n",
    "        chunk_size=1000,\n",
    "        chunk_overlap=100,\n",
    "        separators=[\"\\n\\n\", \"\\n\", \" \", \"\"]\n",
    "    )\n",
    "    chunks = text_splitter.split_text(text)\n",
    "\n",
    "    documents = []\n",
    "    for i, chunk in enumerate(chunks):\n",
    "        documents.append({\n",
    "            \"id\": f\"{document_name}_{i}\",\n",
    "            \"text\": chunk,\n",
    "            \"source\": document_name\n",
    "        })\n",
    "    \n",
    "    return documents\n",
    "\n",
    "# Function to extract text from a PDF\n",
    "def read_pdf_text(file_path):\n",
    "    reader = PdfReader(file_path)\n",
    "    text = ''\n",
    "    for page in reader.pages:\n",
    "        page_text = page.extract_text()\n",
    "        if page_text:\n",
    "            text += page_text + '\\n'\n",
    "    return text\n",
    "\n",
    "# Process all PDFs and split into chunks\n",
    "all_docs = []\n",
    "\n",
    "for pdf_file in os.listdir(pdf_folder):\n",
    "    if pdf_file.endswith(\".pdf\"):\n",
    "        file_path = os.path.join(pdf_folder, pdf_file)\n",
    "        print(f\"📄 Reading and chunking: {pdf_file}\")\n",
    "        text = read_pdf_text(file_path)\n",
    "        chunks = split_documents(text, pdf_file.replace('.pdf', ''))\n",
    "        all_docs.extend(chunks)\n",
    "\n",
    "# Output basic stats\n",
    "print(f\"\\n✅ Total chunks created: {len(all_docs)}\")\n",
    "print(f\"🧾 Sample chunk (first 100 chars):\\n{all_docs[0]['text'][:100]}...\")\n"
   ]
  },
  {
   "cell_type": "markdown",
   "id": "c2dd6c0e-ca6e-4b79-9841-bc150aea9425",
   "metadata": {},
   "source": [
    "### Generating Embeddings"
   ]
  },
  {
   "cell_type": "code",
   "execution_count": 7,
   "id": "c775588c-c1ed-4ba7-977b-9e6868488d45",
   "metadata": {},
   "outputs": [
    {
     "name": "stdout",
     "output_type": "stream",
     "text": [
      "✅ Generated embeddings for 524 documents.\n",
      "🔢 Sample embedding (first 5 values): [-0.0005785746616311371, -0.028399024158716202, -0.04462270438671112, 0.003386411117389798, 0.08531650900840759]\n"
     ]
    }
   ],
   "source": [
    "import os\n",
    "from langchain_google_genai import GoogleGenerativeAIEmbeddings\n",
    "\n",
    "#  Set Google Gemini API Key\n",
    "os.environ[\"GOOGLE_API_KEY\"] = \"MY API KEY\"  \n",
    "\n",
    "#  Initialize Gemini embedding model\n",
    "embeddings = GoogleGenerativeAIEmbeddings(model=\"models/embedding-001\")\n",
    "\n",
    "#  Embedding function\n",
    "def generate_embeddings(documents):\n",
    "    embedded_docs = []\n",
    "    for doc in documents:\n",
    "        try:\n",
    "            embedding_vector = embeddings.embed_query(doc[\"text\"])\n",
    "            embedded_doc = {\n",
    "                \"id\": doc[\"id\"],\n",
    "                \"text\": doc[\"text\"],\n",
    "                \"source\": doc[\"source\"],\n",
    "                \"embedding\": embedding_vector\n",
    "            }\n",
    "            embedded_docs.append(embedded_doc)\n",
    "        except Exception as e:\n",
    "            print(f\"❌ Error embedding document {doc['id']}: {str(e)}\")\n",
    "    \n",
    "    return embedded_docs\n",
    "\n",
    "#  Generate and store embeddings in memory\n",
    "embedded_docs = generate_embeddings(all_docs)\n",
    "\n",
    "# Summary\n",
    "print(f\"✅ Generated embeddings for {len(embedded_docs)} documents.\")\n",
    "print(f\"🔢 Sample embedding (first 5 values): {embedded_docs[0]['embedding'][:5]}\")\n"
   ]
  },
  {
   "cell_type": "markdown",
   "id": "49f59041-72a1-4949-a703-9e33d4413e64",
   "metadata": {},
   "source": [
    "### Set up Zilliz Cloud connection"
   ]
  },
  {
   "cell_type": "code",
   "execution_count": 8,
   "id": "2bbb7f5e-aaa6-419f-896a-674743b175c3",
   "metadata": {},
   "outputs": [],
   "source": [
    "\n",
    "from pymilvus import connections, Collection, FieldSchema, CollectionSchema, DataType, utility\n",
    "\n",
    "def connect_to_milvus():\n",
    "    try:\n",
    "        connections.connect(\n",
    "            alias=\"default\",\n",
    "            uri =\"Zilliz public endpoint\",  \n",
    "            token=\"My Token\",                   \n",
    "            secure=True\n",
    "        )\n",
    "        print(\"Connected to Zilliz Cloud\")\n",
    "        return True\n",
    "    except Exception as e:\n",
    "        print(f\"Error connecting to Zilliz Cloud: {e}\")"
   ]
  },
  {
   "cell_type": "code",
   "execution_count": 14,
   "id": "ab5e5614-1bed-4de0-9457-fb490b78e471",
   "metadata": {},
   "outputs": [],
   "source": [
    "from pymilvus import FieldSchema, CollectionSchema, DataType, Collection, utility\n",
    "\n",
    "#  Create or Load Collection\n",
    "def create_collection(collection_name=\"healthcare_docs\", dimension=768):\n",
    "    if utility.has_collection(collection_name):\n",
    "        print(f\"✅ Collection '{collection_name}' already exists. Loading it.\")\n",
    "        return Collection(collection_name)\n",
    "\n",
    "    fields = [\n",
    "        FieldSchema(name=\"id\", dtype=DataType.VARCHAR, is_primary=True, auto_id=False, max_length=150),\n",
    "        FieldSchema(name=\"text\", dtype=DataType.VARCHAR, max_length=8000),\n",
    "        FieldSchema(name=\"source\", dtype=DataType.VARCHAR, max_length=150),\n",
    "        FieldSchema(name=\"embedding\", dtype=DataType.FLOAT_VECTOR, dim=dimension),\n",
    "    ]\n",
    "\n",
    "    schema = CollectionSchema(fields, description=\"Healthcare document chunks with Gemini embeddings\")\n",
    "    collection = Collection(name=collection_name, schema=schema)\n",
    "\n",
    "    # ✅ Create vector index\n",
    "    index_params = {\n",
    "        \"metric_type\": \"L2\",\n",
    "        \"index_type\": \"IVF_FLAT\",\n",
    "        \"params\": {\"nlist\": 1024}\n",
    "    }\n",
    "    collection.create_index(field_name=\"embedding\", index_params=index_params)\n",
    "    collection.load()\n",
    "    print(f\"✅ Collection '{collection_name}' created and loaded.\")\n",
    "    return collection\n",
    "\n",
    "# ✅ Step 2: Insert Documents\n",
    "def insert_documents(collection, embedded_docs):\n",
    "    ids = [doc[\"id\"] for doc in embedded_docs]\n",
    "    texts = [doc[\"text\"] for doc in embedded_docs]\n",
    "    sources = [doc[\"source\"] for doc in embedded_docs]\n",
    "    embeddings = [doc[\"embedding\"] for doc in embedded_docs]\n",
    "\n",
    "    entities = [ids, texts, sources, embeddings]\n",
    "    insert_result = collection.insert(entities)\n",
    "    collection.flush()\n",
    "    print(f\"✅ Inserted {len(ids)} documents into '{collection.name}' collection.\")\n"
   ]
  },
  {
   "cell_type": "code",
   "execution_count": 19,
   "id": "f9d666de-f37a-469b-8fd7-35575e66806e",
   "metadata": {},
   "outputs": [],
   "source": [
    "# 🧠 Step: Vector Search Function (using query embedding)\n",
    "def search_similar_docs(collection, query_embedding, top_k=5):\n",
    "    collection.load()\n",
    "    search_params = {\"metric_type\": \"L2\", \"params\": {\"nprobe\": 10}}\n",
    "\n",
    "    results = collection.search(\n",
    "        data=[query_embedding],\n",
    "        anns_field=\"embedding\",\n",
    "        param=search_params,\n",
    "        limit=top_k,\n",
    "        output_fields=[\"id\", \"text\", \"source\"]\n",
    "    )\n",
    "\n",
    "    similar_docs = []\n",
    "    for hits in results:\n",
    "        for hit in hits:\n",
    "            similar_docs.append({\n",
    "                \"id\": hit.entity.get(\"id\"),\n",
    "                \"text\": hit.entity.get(\"text\"),\n",
    "                \"source\": hit.entity.get(\"source\"),\n",
    "                \"distance\": hit.distance\n",
    "            })\n",
    "\n",
    "    return similar_docs\n"
   ]
  },
  {
   "cell_type": "code",
   "execution_count": 30,
   "id": "14a16f20-2518-4363-8aca-ac75e28c81fd",
   "metadata": {},
   "outputs": [
    {
     "name": "stdout",
     "output_type": "stream",
     "text": [
      "Connected to Zilliz Cloud\n",
      "✅ Collection 'healthcare_docs' already exists. Loading it.\n",
      "✅ Inserted 524 documents into 'healthcare_docs' collection.\n",
      "\n",
      "📄 Source: disease-handbook-complete\n",
      "✏️ Chunk: What are the symptoms?  \n",
      "There are a wide range of signs and symptoms \n",
      "seen in HIV -infected children.  Symptoms may \n",
      "include failure to  thrive, weight loss, fever, mild \n",
      "or severe developmental dela...\n",
      "📐 Distance: 0.7271164655685425\n",
      "\n",
      "📄 Source: disease-handbook-complete\n",
      "✏️ Chunk: adults aged 55-59.  Most cases of Lyme disease \n",
      "occur between April and October. Current data \n",
      "indicates that it is possible for someone to get Lyme disease more than once.  \n",
      " What are the symptoms?  ...\n",
      "📐 Distance: 0.7748762965202332\n",
      "\n",
      "📄 Source: Guide-to-Common-Childhood-Infections-2023_Final-Approved\n",
      "✏️ Chunk: *Indicates a reportable disease           Return to top  Rotavirus  \n",
      "What  are the \n",
      "symptoms?  \n",
      "Fever,  vomiting  followed  \n",
      "by watery  diarrhea.  \n",
      "Symptoms  usually  last \n",
      "four  to six days.  Incubat...\n",
      "📐 Distance: 0.8003816604614258\n"
     ]
    }
   ],
   "source": [
    "# 🔌 Connect to Zilliz\n",
    "connect_to_milvus()\n",
    "\n",
    "# 📦 Create or load collection\n",
    "collection = create_collection(\"healthcare_docs\", dimension=768)\n",
    "\n",
    "# ⬆️ Insert embedded documents\n",
    "insert_documents(collection, embedded_docs)\n",
    "\n",
    "# 🔍 Test search\n",
    "query = \"What are symptoms of diabetes?\"\n",
    "query_embedding = embeddings.embed_query(query)\n",
    "\n",
    "similar_docs = search_similar_docs(collection, query_embedding, top_k=3)\n",
    "\n",
    "# 🧾 Print top docs\n",
    "for doc in similar_docs:\n",
    "    print(f\"\\n📄 Source: {doc['source']}\\n✏️ Chunk: {doc['text'][:200]}...\\n📐 Distance: {doc['distance']}\")\n"
   ]
  },
  {
   "cell_type": "code",
   "execution_count": 34,
   "id": "df60cd5a-5038-449f-a7e7-91fb3df1bab5",
   "metadata": {},
   "outputs": [],
   "source": [
    "import requests\n",
    "\n",
    "\n",
    "OPENROUTER_API_KEY = \"My API KEY\" \n",
    "\n",
    "# Function to call OpenRouter LLM API\n",
    "def generate_answer(query, retrieved_docs):\n",
    "    # 🔧 Build context from top retrieved chunks\n",
    "    context = \"\\n\\n\".join([doc['text'] for doc in retrieved_docs])\n",
    "\n",
    "    # 🧠 Format prompt for LLM\n",
    "    prompt = f\"\"\"You are a helpful medical assistant chatbot. Use the following context to answer the user's question ethically and accurately.\n",
    "\n",
    "Context:\n",
    "{context}\n",
    "\n",
    "Question:\n",
    "{query}\n",
    "\n",
    "Answer:\"\"\"\n",
    "\n",
    "    headers = {\n",
    "        \"Authorization\": f\"Bearer {OPENROUTER_API_KEY}\",\n",
    "        \"Content-Type\": \"application/json\"\n",
    "    }\n",
    "\n",
    "    body = {\n",
    "        \"model\": \"openai/gpt-3.5-turbo\", \n",
    "        \"messages\": [\n",
    "            {\"role\": \"user\", \"content\": prompt}\n",
    "        ],\n",
    "        \"temperature\": 0.2\n",
    "    }\n",
    "\n",
    "    response = requests.post(\"https://openrouter.ai/api/v1/chat/completions\", headers=headers, json=body)\n",
    "\n",
    "    if response.status_code == 200:\n",
    "        answer = response.json()['choices'][0]['message']['content']\n",
    "        return answer.strip()\n",
    "    else:\n",
    "        print(\"❌ Error:\", response.text)\n",
    "        return \"Sorry, I couldn't generate an answer at the moment.\"\n"
   ]
  },
  {
   "cell_type": "code",
   "execution_count": 32,
   "id": "21441ace-71ba-4cd9-a9ef-b457ad32a622",
   "metadata": {},
   "outputs": [
    {
     "name": "stdout",
     "output_type": "stream",
     "text": [
      "\n",
      "💬 Chatbot Answer:\n",
      " Common side effects of paracetamol (also known as acetaminophen) include nausea, vomiting, and liver damage if taken in high doses. It is important to follow the recommended dosage instructions and consult with a healthcare provider if you experience any concerning side effects.\n"
     ]
    }
   ],
   "source": [
    "# 🔎 User query\n",
    "user_query = \"What are the side effects of paracetamol?\"\n",
    "\n",
    "# 🔗 Embed query using Gemini\n",
    "query_embedding = embeddings.embed_query(user_query)\n",
    "\n",
    "# 🔍 Retrieve similar docs from Zilliz\n",
    "top_docs = search_similar_docs(collection, query_embedding, top_k=3)\n",
    "\n",
    "# 🧠 Generate answer using OpenRouter LLM\n",
    "final_answer = generate_answer(user_query, top_docs)\n",
    "\n",
    "# 📢 Output\n",
    "print(\"\\n💬 Chatbot Answer:\\n\", final_answer)\n"
   ]
  },
  {
   "cell_type": "code",
   "execution_count": 33,
   "id": "7deccc64-5d53-4ea6-b036-8fcb0375494e",
   "metadata": {},
   "outputs": [
    {
     "name": "stdout",
     "output_type": "stream",
     "text": [
      "\n",
      "💬 Chatbot Answer:\n",
      " Malaria is not listed in the provided context, but I can still provide you with information on its symptoms. Symptoms of malaria typically include fever, chills, sweats, headaches, muscle aches, fatigue, nausea, and vomiting. In more severe cases, malaria can lead to jaundice, seizures, coma, or even death. It is important to seek medical attention if you suspect you have malaria, as it is a serious and potentially life-threatening disease.\n"
     ]
    }
   ],
   "source": [
    "# 🔎 User query\n",
    "user_query = \"What are the symptoms of malaria?\"\n",
    "\n",
    "# 🔗 Embed query using Gemini\n",
    "query_embedding = embeddings.embed_query(user_query)\n",
    "\n",
    "# 🔍 Retrieve similar docs from Zilliz\n",
    "top_docs = search_similar_docs(collection, query_embedding, top_k=3)\n",
    "\n",
    "# 🧠 Generate answer using OpenRouter LLM\n",
    "final_answer = generate_answer(user_query, top_docs)\n",
    "\n",
    "# 📢 Output\n",
    "print(\"\\n💬 Chatbot Answer:\\n\", final_answer)\n"
   ]
  },
  {
   "cell_type": "code",
   "execution_count": null,
   "id": "ba90d69e-a9e9-4ec7-8ee6-42a5bdbfbd43",
   "metadata": {},
   "outputs": [],
   "source": []
  },
  {
   "cell_type": "code",
   "execution_count": null,
   "id": "ab0b7ea8-13fc-4097-b9b1-d38296f96b0b",
   "metadata": {},
   "outputs": [],
   "source": []
  },
  {
   "cell_type": "code",
   "execution_count": null,
   "id": "f7a6e522-6fc8-4f55-bd13-0b0ab533e683",
   "metadata": {},
   "outputs": [],
   "source": []
  },
  {
   "cell_type": "code",
   "execution_count": null,
   "id": "ea346f33-6b4c-4401-95a0-d059f792525f",
   "metadata": {},
   "outputs": [],
   "source": []
  }
 ],
 "metadata": {
  "kernelspec": {
   "display_name": "Python 3 (ipykernel)",
   "language": "python",
   "name": "python3"
  },
  "language_info": {
   "codemirror_mode": {
    "name": "ipython",
    "version": 3
   },
   "file_extension": ".py",
   "mimetype": "text/x-python",
   "name": "python",
   "nbconvert_exporter": "python",
   "pygments_lexer": "ipython3",
   "version": "3.11.7"
  }
 },
 "nbformat": 4,
 "nbformat_minor": 5
}
